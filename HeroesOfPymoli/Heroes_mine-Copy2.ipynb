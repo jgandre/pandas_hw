{
 "cells": [
  {
   "cell_type": "markdown",
   "metadata": {},
   "source": [
    "### Note\n",
    "* Instructions have been included for each segment. You do not have to follow them exactly, but they are included to help you think through the steps."
   ]
  },
  {
   "cell_type": "code",
   "execution_count": 1,
   "metadata": {},
   "outputs": [],
   "source": [
    "# Dependencies and Setup\n",
    "%load_ext lab_black\n",
    "import os\n",
    "import csv\n",
    "import pandas as pd\n",
    "\n",
    "# File to Load (Remember to Change These)\n",
    "path = os.path.join(\"Resources/purchase_data.csv\")\n",
    "\n",
    "# Read Purchasing File and store into Pandas data frame\n",
    "purchase_data = pd.read_csv(path)"
   ]
  },
  {
   "cell_type": "markdown",
   "metadata": {},
   "source": [
    "## Player Count"
   ]
  },
  {
   "cell_type": "markdown",
   "metadata": {},
   "source": [
    "* Display the total number of players\n"
   ]
  },
  {
   "cell_type": "code",
   "execution_count": 2,
   "metadata": {},
   "outputs": [
    {
     "data": {
      "text/html": [
       "<div>\n",
       "<style scoped>\n",
       "    .dataframe tbody tr th:only-of-type {\n",
       "        vertical-align: middle;\n",
       "    }\n",
       "\n",
       "    .dataframe tbody tr th {\n",
       "        vertical-align: top;\n",
       "    }\n",
       "\n",
       "    .dataframe thead th {\n",
       "        text-align: right;\n",
       "    }\n",
       "</style>\n",
       "<table border=\"1\" class=\"dataframe\">\n",
       "  <thead>\n",
       "    <tr style=\"text-align: right;\">\n",
       "      <th></th>\n",
       "      <th>Total Players</th>\n",
       "    </tr>\n",
       "  </thead>\n",
       "  <tbody>\n",
       "    <tr>\n",
       "      <th>0</th>\n",
       "      <td>576</td>\n",
       "    </tr>\n",
       "  </tbody>\n",
       "</table>\n",
       "</div>"
      ],
      "text/plain": [
       "   Total Players\n",
       "0            576"
      ]
     },
     "execution_count": 2,
     "metadata": {},
     "output_type": "execute_result"
    }
   ],
   "source": [
    "purchase_data[\"SN\"].value_counts()\n",
    "total = [len(purchase_data[\"SN\"].value_counts())]\n",
    "total\n",
    "type(total)\n",
    "df = pd.DataFrame(total, columns=[\"Total Players\"])\n",
    "df"
   ]
  },
  {
   "cell_type": "markdown",
   "metadata": {},
   "source": [
    "## Purchasing Analysis (Total)"
   ]
  },
  {
   "cell_type": "markdown",
   "metadata": {},
   "source": [
    "* Run basic calculations to obtain number of unique items, average price, etc.\n",
    "\n",
    "\n",
    "* Create a summary data frame to hold the results\n",
    "\n",
    "\n",
    "* Optional: give the displayed data cleaner formatting\n",
    "\n",
    "\n",
    "* Display the summary data frame\n"
   ]
  },
  {
   "cell_type": "code",
   "execution_count": null,
   "metadata": {
    "scrolled": true
   },
   "outputs": [],
   "source": []
  },
  {
   "cell_type": "code",
   "execution_count": 3,
   "metadata": {},
   "outputs": [],
   "source": [
    "(len(purchase_data[\"Item ID\"].value_counts()))\n",
    "(purchase_data[\"Price\"].mean())\n",
    "(len(purchase_data[\"Purchase ID\"].value_counts()))\n",
    "(purchase_data[\"Price\"].sum())\n",
    "\n",
    "(purchase_data[\"Price\"].mean())\n",
    "avg_price = purchase_data[\"Price\"].mean()\n",
    "total_rev = purchase_data[\"Price\"].sum()"
   ]
  },
  {
   "cell_type": "code",
   "execution_count": 4,
   "metadata": {},
   "outputs": [
    {
     "data": {
      "text/html": [
       "<div>\n",
       "<style scoped>\n",
       "    .dataframe tbody tr th:only-of-type {\n",
       "        vertical-align: middle;\n",
       "    }\n",
       "\n",
       "    .dataframe tbody tr th {\n",
       "        vertical-align: top;\n",
       "    }\n",
       "\n",
       "    .dataframe thead th {\n",
       "        text-align: right;\n",
       "    }\n",
       "</style>\n",
       "<table border=\"1\" class=\"dataframe\">\n",
       "  <thead>\n",
       "    <tr style=\"text-align: right;\">\n",
       "      <th></th>\n",
       "      <th>Unique Item Count</th>\n",
       "      <th>Average Price</th>\n",
       "      <th>Number of Purchases</th>\n",
       "      <th>Total Revenue</th>\n",
       "    </tr>\n",
       "  </thead>\n",
       "  <tbody>\n",
       "    <tr>\n",
       "      <th>0</th>\n",
       "      <td>183</td>\n",
       "      <td>$3.05</td>\n",
       "      <td>780</td>\n",
       "      <td>$2379.77</td>\n",
       "    </tr>\n",
       "  </tbody>\n",
       "</table>\n",
       "</div>"
      ],
      "text/plain": [
       "   Unique Item Count Average Price  Number of Purchases Total Revenue\n",
       "0                183         $3.05                  780      $2379.77"
      ]
     },
     "execution_count": 4,
     "metadata": {},
     "output_type": "execute_result"
    }
   ],
   "source": [
    "summary = [\n",
    "    {\n",
    "        \"Unique Item Count\": len(purchase_data[\"Item ID\"].value_counts()),\n",
    "        \"Average Price\": \"${:.2f}\".format(avg_price),\n",
    "        \"Number of Purchases\": len(purchase_data[\"Purchase ID\"].value_counts()),\n",
    "        \"Total Revenue\": \"${:.2f}\".format(total_rev),\n",
    "    }\n",
    "]\n",
    "summary_df = pd.DataFrame(summary)\n",
    "summary_df"
   ]
  },
  {
   "cell_type": "markdown",
   "metadata": {},
   "source": [
    "## Gender Demographics"
   ]
  },
  {
   "cell_type": "code",
   "execution_count": null,
   "metadata": {},
   "outputs": [],
   "source": []
  },
  {
   "cell_type": "markdown",
   "metadata": {},
   "source": [
    "* Percentage and Count of Male Players\n",
    "\n",
    "\n",
    "* Percentage and Count of Female Players\n",
    "\n",
    "\n",
    "* Percentage and Count of Other / Non-Disclosed\n",
    "\n",
    "\n"
   ]
  },
  {
   "cell_type": "code",
   "execution_count": null,
   "metadata": {},
   "outputs": [],
   "source": []
  },
  {
   "cell_type": "code",
   "execution_count": 5,
   "metadata": {},
   "outputs": [
    {
     "data": {
      "text/html": [
       "<div>\n",
       "<style scoped>\n",
       "    .dataframe tbody tr th:only-of-type {\n",
       "        vertical-align: middle;\n",
       "    }\n",
       "\n",
       "    .dataframe tbody tr th {\n",
       "        vertical-align: top;\n",
       "    }\n",
       "\n",
       "    .dataframe thead th {\n",
       "        text-align: right;\n",
       "    }\n",
       "</style>\n",
       "<table border=\"1\" class=\"dataframe\">\n",
       "  <thead>\n",
       "    <tr style=\"text-align: right;\">\n",
       "      <th></th>\n",
       "      <th>Total Count</th>\n",
       "      <th>Percentage of Players</th>\n",
       "    </tr>\n",
       "  </thead>\n",
       "  <tbody>\n",
       "    <tr>\n",
       "      <th>Male</th>\n",
       "      <td>484</td>\n",
       "      <td>84.03%</td>\n",
       "    </tr>\n",
       "    <tr>\n",
       "      <th>Female</th>\n",
       "      <td>81</td>\n",
       "      <td>14.06%</td>\n",
       "    </tr>\n",
       "    <tr>\n",
       "      <th>Other/Non-Disclosed</th>\n",
       "      <td>11</td>\n",
       "      <td>1.91%</td>\n",
       "    </tr>\n",
       "  </tbody>\n",
       "</table>\n",
       "</div>"
      ],
      "text/plain": [
       "                     Total Count Percentage of Players\n",
       "Male                         484                84.03%\n",
       "Female                        81                14.06%\n",
       "Other/Non-Disclosed           11                 1.91%"
      ]
     },
     "execution_count": 5,
     "metadata": {},
     "output_type": "execute_result"
    }
   ],
   "source": [
    "# need to get the unique Males and Females\n",
    "u_males = purchase_data[purchase_data[\"Gender\"] == \"Male\"]\n",
    "mc = u_males[\"SN\"].value_counts()\n",
    "\n",
    "u_females = purchase_data[purchase_data[\"Gender\"] == \"Female\"]\n",
    "fc = u_females[\"SN\"].value_counts()\n",
    "\n",
    "u_unknown = purchase_data[purchase_data[\"Gender\"] == \"Other / Non-Disclosed\"]\n",
    "uc = u_unknown[\"SN\"].value_counts()\n",
    "\n",
    "male_count = len(mc)\n",
    "female_count = len(fc)\n",
    "unknown_count = len(uc)\n",
    "\n",
    "total_count = male_count + female_count + unknown_count\n",
    "\n",
    "male_percent = (male_count / total_count) * 100\n",
    "female_percent = (female_count / total_count) * 100\n",
    "unknown_percent = (unknown_count / total_count) * 100\n",
    "\n",
    "form_male_percent = \"{0:.2f}%\".format(male_percent)\n",
    "form_female_percent = \"{0:.2f}%\".format(female_percent)\n",
    "form_unknown_percent = \"{0:.2f}%\".format(unknown_percent)\n",
    "\n",
    "data = {\n",
    "    \"Total Count\": [male_count, female_count, unknown_count],\n",
    "    \"Percentage of Players\": [\n",
    "        form_male_percent,\n",
    "        form_female_percent,\n",
    "        form_unknown_percent,\n",
    "    ],\n",
    "}\n",
    "\n",
    "df = pd.DataFrame(data, index=[\"Male\", \"Female\", \"Other/Non-Disclosed\"])\n",
    "df"
   ]
  },
  {
   "cell_type": "code",
   "execution_count": null,
   "metadata": {},
   "outputs": [],
   "source": []
  },
  {
   "cell_type": "markdown",
   "metadata": {},
   "source": [
    "\n",
    "## Purchasing Analysis (Gender)"
   ]
  },
  {
   "cell_type": "markdown",
   "metadata": {},
   "source": [
    "* Run basic calculations to obtain purchase count, avg. purchase price, avg. purchase total per person etc. by gender\n",
    "\n",
    "\n",
    "\n",
    "\n",
    "* Create a summary data frame to hold the results\n",
    "\n",
    "\n",
    "* Optional: give the displayed data cleaner formatting\n",
    "\n",
    "\n",
    "* Display the summary data frame"
   ]
  },
  {
   "cell_type": "code",
   "execution_count": 6,
   "metadata": {},
   "outputs": [],
   "source": [
    "# puchase count\n",
    "male_purch_count = len(purchase_data.loc[purchase_data[\"Gender\"] == \"Male\"])\n",
    "female_purch_count = len(purchase_data.loc[purchase_data[\"Gender\"] == \"Female\"])\n",
    "unknown_purch_count = len(\n",
    "    purchase_data.loc[purchase_data[\"Gender\"] == \"Other / Non-Disclosed\"]\n",
    ")"
   ]
  },
  {
   "cell_type": "code",
   "execution_count": 7,
   "metadata": {},
   "outputs": [],
   "source": [
    "# avg purchase price\n",
    "m_avg_price = purchase_data[purchase_data[\"Gender\"] == \"Male\"][\"Price\"].mean()\n",
    "\n",
    "f_avg_price = purchase_data[purchase_data[\"Gender\"] == \"Female\"][\"Price\"].mean()\n",
    "\n",
    "u_avg_price = purchase_data[purchase_data[\"Gender\"] == \"Other / Non-Disclosed\"][\n",
    "    \"Price\"\n",
    "].mean()\n",
    "\n",
    "form_m_avg_price = \"{0:.2f}\".format(m_avg_price)\n",
    "form_f_avg_price = \"{0:.2f}\".format(f_avg_price)\n",
    "form_u_avg_price = \"{0:.2f}\".format(u_avg_price)"
   ]
  },
  {
   "cell_type": "code",
   "execution_count": 8,
   "metadata": {},
   "outputs": [],
   "source": [
    "# Total Purchase Value by gender\n",
    "m_total_price = purchase_data[purchase_data[\"Gender\"] == \"Male\"][\"Price\"].sum()\n",
    "\n",
    "f_total_price = purchase_data[purchase_data[\"Gender\"] == \"Female\"][\"Price\"].sum()\n",
    "\n",
    "u_total_price = purchase_data[purchase_data[\"Gender\"] == \"Other / Non-Disclosed\"][\n",
    "    \"Price\"\n",
    "].sum()\n",
    "\n",
    "\n",
    "form_m_total_price = \"${:.2f}\".format(m_total_price)\n",
    "form_f_total_price = \"${:.2f}\".format(f_total_price)\n",
    "form_u_total_price = \"${:.2f}\".format(u_total_price)"
   ]
  },
  {
   "cell_type": "code",
   "execution_count": null,
   "metadata": {},
   "outputs": [],
   "source": []
  },
  {
   "cell_type": "code",
   "execution_count": 9,
   "metadata": {},
   "outputs": [],
   "source": [
    "# avg total purchase per person by gender\n",
    "m_total_price = purchase_data[purchase_data[\"Gender\"] == \"Male\"][\"Price\"].sum()\n",
    "\n",
    "f_total_price = purchase_data[purchase_data[\"Gender\"] == \"Female\"][\"Price\"].sum()\n",
    "\n",
    "u_total_price = purchase_data[purchase_data[\"Gender\"] == \"Other / Non-Disclosed\"][\n",
    "    \"Price\"\n",
    "].sum()\n",
    "\n",
    "m_avg_total = m_total_price / male_count\n",
    "f_avg_total = f_total_price / female_count\n",
    "u_avg_total = u_total_price / unknown_count\n",
    "\n",
    "form_m_avg_total = \"${:.2f}\".format(m_avg_total)\n",
    "form_f_avg_total = \"${:.2f}\".format(f_avg_total)\n",
    "form_u_avg_total = \"${:.2f}\".format(u_avg_total)"
   ]
  },
  {
   "cell_type": "code",
   "execution_count": 10,
   "metadata": {},
   "outputs": [
    {
     "data": {
      "text/html": [
       "<div>\n",
       "<style scoped>\n",
       "    .dataframe tbody tr th:only-of-type {\n",
       "        vertical-align: middle;\n",
       "    }\n",
       "\n",
       "    .dataframe tbody tr th {\n",
       "        vertical-align: top;\n",
       "    }\n",
       "\n",
       "    .dataframe thead th {\n",
       "        text-align: right;\n",
       "    }\n",
       "</style>\n",
       "<table border=\"1\" class=\"dataframe\">\n",
       "  <thead>\n",
       "    <tr style=\"text-align: right;\">\n",
       "      <th></th>\n",
       "      <th>Purchase Count</th>\n",
       "      <th>Avg Purchase Price</th>\n",
       "      <th>Total Purchase Value</th>\n",
       "      <th>Avg Total Puchases per Person</th>\n",
       "    </tr>\n",
       "  </thead>\n",
       "  <tbody>\n",
       "    <tr>\n",
       "      <th>Male</th>\n",
       "      <td>652</td>\n",
       "      <td>3.02</td>\n",
       "      <td>$1967.64</td>\n",
       "      <td>$4.07</td>\n",
       "    </tr>\n",
       "    <tr>\n",
       "      <th>Female</th>\n",
       "      <td>113</td>\n",
       "      <td>3.20</td>\n",
       "      <td>$361.94</td>\n",
       "      <td>$4.47</td>\n",
       "    </tr>\n",
       "    <tr>\n",
       "      <th>Other/Non-Disclosed</th>\n",
       "      <td>15</td>\n",
       "      <td>3.35</td>\n",
       "      <td>$50.19</td>\n",
       "      <td>$4.56</td>\n",
       "    </tr>\n",
       "  </tbody>\n",
       "</table>\n",
       "</div>"
      ],
      "text/plain": [
       "                     Purchase Count Avg Purchase Price Total Purchase Value  \\\n",
       "Male                            652               3.02             $1967.64   \n",
       "Female                          113               3.20              $361.94   \n",
       "Other/Non-Disclosed              15               3.35               $50.19   \n",
       "\n",
       "                    Avg Total Puchases per Person  \n",
       "Male                                        $4.07  \n",
       "Female                                      $4.47  \n",
       "Other/Non-Disclosed                         $4.56  "
      ]
     },
     "execution_count": 10,
     "metadata": {},
     "output_type": "execute_result"
    }
   ],
   "source": [
    "# dataframe for Puchase Analysis(Gender)\n",
    "\n",
    "data = {\n",
    "    \"Purchase Count\": [male_purch_count, female_purch_count, unknown_purch_count],\n",
    "    \"Avg Purchase Price\": [form_m_avg_price, form_f_avg_price, form_u_avg_price],\n",
    "    \"Total Purchase Value\": [\n",
    "        form_m_total_price,\n",
    "        form_f_total_price,\n",
    "        form_u_total_price,\n",
    "    ],\n",
    "    \"Avg Total Puchases per Person\": [\n",
    "        form_m_avg_total,\n",
    "        form_f_avg_total,\n",
    "        form_u_avg_total,\n",
    "    ],\n",
    "}\n",
    "\n",
    "df = pd.DataFrame(data, index=[\"Male\", \"Female\", \"Other/Non-Disclosed\"])\n",
    "df"
   ]
  },
  {
   "cell_type": "markdown",
   "metadata": {},
   "source": [
    "## Age Demographics"
   ]
  },
  {
   "cell_type": "markdown",
   "metadata": {},
   "source": [
    "* Establish bins for ages\n",
    "\n",
    "\n",
    "* Categorize the existing players using the age bins. Hint: use pd.cut()\n",
    "\n",
    "\n",
    "* Calculate the numbers and percentages by age group\n",
    "\n",
    "\n",
    "* Create a summary data frame to hold the results\n",
    "\n",
    "\n",
    "* Optional: round the percentage column to two decimal points\n",
    "\n",
    "\n",
    "* Display Age Demographics Table\n"
   ]
  },
  {
   "cell_type": "code",
   "execution_count": 11,
   "metadata": {},
   "outputs": [],
   "source": [
    "df = purchase_data[\"Age\"]\n",
    "bins = pd.cut(\n",
    "    x=df,\n",
    "    bins=[0, 10, 15, 20, 25, 30, 35, 40, 100],\n",
    "    labels=[\n",
    "        \"<10\",\n",
    "        \"10 to 14\",\n",
    "        \"15 to 19\",\n",
    "        \"20 to 24\",\n",
    "        \"25 to 29\",\n",
    "        \"30 to 34\",\n",
    "        \"35 t0 39\",\n",
    "        \"40+\",\n",
    "    ],\n",
    ")"
   ]
  },
  {
   "cell_type": "code",
   "execution_count": 12,
   "metadata": {},
   "outputs": [
    {
     "data": {
      "text/plain": [
       "0      15 to 19\n",
       "1      35 t0 39\n",
       "2      20 to 24\n",
       "3      20 to 24\n",
       "4      20 to 24\n",
       "         ...   \n",
       "775    20 to 24\n",
       "776    20 to 24\n",
       "777    15 to 19\n",
       "778         <10\n",
       "779    20 to 24\n",
       "Name: Age, Length: 780, dtype: category\n",
       "Categories (8, object): [<10 < 10 to 14 < 15 to 19 < 20 to 24 < 25 to 29 < 30 to 34 < 35 t0 39 < 40+]"
      ]
     },
     "execution_count": 12,
     "metadata": {},
     "output_type": "execute_result"
    }
   ],
   "source": [
    "bins"
   ]
  },
  {
   "cell_type": "markdown",
   "metadata": {},
   "source": [
    "## Purchasing Analysis (Age)"
   ]
  },
  {
   "cell_type": "markdown",
   "metadata": {},
   "source": [
    "* Bin the purchase_data data frame by age\n",
    "\n",
    "\n",
    "* Run basic calculations to obtain purchase count, avg. purchase price, avg. purchase total per person etc. in the table below\n",
    "\n",
    "\n",
    "* Create a summary data frame to hold the results\n",
    "\n",
    "\n",
    "* Optional: give the displayed data cleaner formatting\n",
    "\n",
    "\n",
    "* Display the summary data frame"
   ]
  },
  {
   "cell_type": "code",
   "execution_count": null,
   "metadata": {},
   "outputs": [],
   "source": []
  },
  {
   "cell_type": "markdown",
   "metadata": {},
   "source": [
    "## Top Spenders"
   ]
  },
  {
   "cell_type": "markdown",
   "metadata": {},
   "source": [
    "* Run basic calculations to obtain the results in the table below\n",
    "\n",
    "\n",
    "* Create a summary data frame to hold the results\n",
    "\n",
    "\n",
    "* Sort the total purchase value column in descending order\n",
    "\n",
    "\n",
    "* Optional: give the displayed data cleaner formatting\n",
    "\n",
    "\n",
    "* Display a preview of the summary data frame\n",
    "\n"
   ]
  },
  {
   "cell_type": "code",
   "execution_count": 13,
   "metadata": {},
   "outputs": [
    {
     "data": {
      "text/plain": [
       "Lisosia93      5\n",
       "Iral74         4\n",
       "Idastidru52    4\n",
       "Idai61         3\n",
       "Lisim78        3\n",
       "Name: SN, dtype: int64"
      ]
     },
     "execution_count": 13,
     "metadata": {},
     "output_type": "execute_result"
    }
   ],
   "source": [
    "purchase_data[\"SN\"].value_counts().head(5)"
   ]
  },
  {
   "cell_type": "code",
   "execution_count": 14,
   "metadata": {},
   "outputs": [
    {
     "data": {
      "text/html": [
       "<div>\n",
       "<style scoped>\n",
       "    .dataframe tbody tr th:only-of-type {\n",
       "        vertical-align: middle;\n",
       "    }\n",
       "\n",
       "    .dataframe tbody tr th {\n",
       "        vertical-align: top;\n",
       "    }\n",
       "\n",
       "    .dataframe thead th {\n",
       "        text-align: right;\n",
       "    }\n",
       "</style>\n",
       "<table border=\"1\" class=\"dataframe\">\n",
       "  <thead>\n",
       "    <tr style=\"text-align: right;\">\n",
       "      <th></th>\n",
       "      <th>Purchase Count</th>\n",
       "      <th>Avg Purchase Price</th>\n",
       "      <th>Total Purchase Value</th>\n",
       "    </tr>\n",
       "  </thead>\n",
       "  <tbody>\n",
       "    <tr>\n",
       "      <th>Lisosia93</th>\n",
       "      <td>5</td>\n",
       "      <td>$3.79</td>\n",
       "      <td>$18.96</td>\n",
       "    </tr>\n",
       "    <tr>\n",
       "      <th>Idastidru52</th>\n",
       "      <td>4</td>\n",
       "      <td>$3.86</td>\n",
       "      <td>$15.45</td>\n",
       "    </tr>\n",
       "    <tr>\n",
       "      <th>Chamjask73</th>\n",
       "      <td>3</td>\n",
       "      <td>$4.61</td>\n",
       "      <td>$13.83</td>\n",
       "    </tr>\n",
       "    <tr>\n",
       "      <th>Iral74</th>\n",
       "      <td>4</td>\n",
       "      <td>$3.40</td>\n",
       "      <td>$13.62</td>\n",
       "    </tr>\n",
       "    <tr>\n",
       "      <th>Iskadarya95</th>\n",
       "      <td>3</td>\n",
       "      <td>$4.37</td>\n",
       "      <td>$13.10</td>\n",
       "    </tr>\n",
       "  </tbody>\n",
       "</table>\n",
       "</div>"
      ],
      "text/plain": [
       "             Purchase Count Avg Purchase Price Total Purchase Value\n",
       "Lisosia93                 5              $3.79               $18.96\n",
       "Idastidru52               4              $3.86               $15.45\n",
       "Chamjask73                3              $4.61               $13.83\n",
       "Iral74                    4              $3.40               $13.62\n",
       "Iskadarya95               3              $4.37               $13.10"
      ]
     },
     "execution_count": 14,
     "metadata": {},
     "output_type": "execute_result"
    }
   ],
   "source": [
    "df = purchase_data.loc[purchase_data[\"SN\"] == \"Lisosia93\"]\n",
    "df_count = df[\"SN\"].value_counts()\n",
    "\n",
    "\n",
    "df_avg = df[\"Price\"].mean()\n",
    "form_df_avg = \"${:.2f}\".format(df_avg)\n",
    "form_df_avg\n",
    "\n",
    "df_total_price = df[\"Price\"].sum()\n",
    "form_df_total = \"${:.2f}\".format(df_total_price)\n",
    "\n",
    "\n",
    "sn_two = purchase_data.loc[purchase_data[\"SN\"] == \"Idastidru52\"]\n",
    "sn_two_count = sn_two[\"SN\"].value_counts()\n",
    "sn_two_avg = sn_two[\"Price\"].mean()\n",
    "form_sn_two_avg = \"${:.2f}\".format(sn_two_avg)\n",
    "form_sn_two_avg\n",
    "\n",
    "sn_two_total_price = sn_two[\"Price\"].sum()\n",
    "form_sn_two_total = \"${:.2f}\".format(sn_two_total_price)\n",
    "\n",
    "sn_three = purchase_data.loc[purchase_data[\"SN\"] == \"Chamjask73\"]\n",
    "sn_three_count = sn_three[\"SN\"].value_counts()\n",
    "sn_three_avg = sn_three[\"Price\"].mean()\n",
    "form_sn_three_avg = \"${:.2f}\".format(sn_three_avg)\n",
    "form_sn_three_avg\n",
    "\n",
    "sn_three_total_price = sn_three[\"Price\"].sum()\n",
    "form_sn_three_total = \"${:.2f}\".format(sn_three_total_price)\n",
    "\n",
    "sn_four = purchase_data.loc[purchase_data[\"SN\"] == \"Iral74\"]\n",
    "sn_four_count = sn_four[\"SN\"].value_counts()\n",
    "sn_four_avg = sn_four[\"Price\"].mean()\n",
    "form_sn_four_avg = \"${:.2f}\".format(sn_four_avg)\n",
    "form_sn_four_avg\n",
    "\n",
    "sn_four_total_price = sn_four[\"Price\"].sum()\n",
    "form_sn_four_total = \"${:.2f}\".format(sn_four_total_price)\n",
    "\n",
    "sn_five = purchase_data.loc[purchase_data[\"SN\"] == \"Iskadarya95\"]\n",
    "sn_five_count = sn_five[\"SN\"].value_counts()\n",
    "sn_five_avg = sn_five[\"Price\"].mean()\n",
    "form_sn_five_avg = \"${:.2f}\".format(sn_five_avg)\n",
    "form_sn_five_avg\n",
    "\n",
    "sn_five_total_price = sn_five[\"Price\"].sum()\n",
    "form_sn_five_total = \"${:.2f}\".format(sn_five_total_price)\n",
    "\n",
    "\n",
    "data = {\n",
    "    \"Purchase Count\": [5, 4, 3, 4, 3,],\n",
    "    \"Avg Purchase Price\": [\n",
    "        form_df_avg,\n",
    "        form_sn_two_avg,\n",
    "        form_sn_three_avg,\n",
    "        form_sn_four_avg,\n",
    "        form_sn_five_avg,\n",
    "    ],\n",
    "    \"Total Purchase Value\": [\n",
    "        form_df_total,\n",
    "        form_sn_two_total,\n",
    "        form_sn_three_total,\n",
    "        form_sn_four_total,\n",
    "        form_sn_five_total,\n",
    "    ],\n",
    "}\n",
    "\n",
    "new_df = pd.DataFrame(\n",
    "    data, index=[\"Lisosia93\", \"Idastidru52\", \"Chamjask73\", \"Iral74\", \"Iskadarya95\"]\n",
    ")\n",
    "new_df"
   ]
  },
  {
   "cell_type": "markdown",
   "metadata": {},
   "source": [
    "## Most Popular Items"
   ]
  },
  {
   "cell_type": "markdown",
   "metadata": {},
   "source": [
    "* Retrieve the Item ID, Item Name, and Item Price columns\n",
    "\n",
    "\n",
    "* Group by Item ID and Item Name. Perform calculations to obtain purchase count, item price, and total purchase value\n",
    "\n",
    "\n",
    "* Create a summary data frame to hold the results\n",
    "\n",
    "\n",
    "* Sort the purchase count column in descending order\n",
    "\n",
    "\n",
    "* Optional: give the displayed data cleaner formatting\n",
    "\n",
    "\n",
    "* Display a preview of the summary data frame\n",
    "\n"
   ]
  },
  {
   "cell_type": "code",
   "execution_count": 15,
   "metadata": {},
   "outputs": [
    {
     "data": {
      "text/html": [
       "<div>\n",
       "<style scoped>\n",
       "    .dataframe tbody tr th:only-of-type {\n",
       "        vertical-align: middle;\n",
       "    }\n",
       "\n",
       "    .dataframe tbody tr th {\n",
       "        vertical-align: top;\n",
       "    }\n",
       "\n",
       "    .dataframe thead th {\n",
       "        text-align: right;\n",
       "    }\n",
       "</style>\n",
       "<table border=\"1\" class=\"dataframe\">\n",
       "  <thead>\n",
       "    <tr style=\"text-align: right;\">\n",
       "      <th></th>\n",
       "      <th>Item ID</th>\n",
       "      <th>Item Name</th>\n",
       "      <th>Price</th>\n",
       "    </tr>\n",
       "  </thead>\n",
       "  <tbody>\n",
       "    <tr>\n",
       "      <th>0</th>\n",
       "      <td>108</td>\n",
       "      <td>Extraction, Quickblade Of Trembling Hands</td>\n",
       "      <td>3.53</td>\n",
       "    </tr>\n",
       "    <tr>\n",
       "      <th>1</th>\n",
       "      <td>143</td>\n",
       "      <td>Frenzied Scimitar</td>\n",
       "      <td>1.56</td>\n",
       "    </tr>\n",
       "    <tr>\n",
       "      <th>2</th>\n",
       "      <td>92</td>\n",
       "      <td>Final Critic</td>\n",
       "      <td>4.88</td>\n",
       "    </tr>\n",
       "    <tr>\n",
       "      <th>3</th>\n",
       "      <td>100</td>\n",
       "      <td>Blindscythe</td>\n",
       "      <td>3.27</td>\n",
       "    </tr>\n",
       "    <tr>\n",
       "      <th>4</th>\n",
       "      <td>131</td>\n",
       "      <td>Fury</td>\n",
       "      <td>1.44</td>\n",
       "    </tr>\n",
       "    <tr>\n",
       "      <th>...</th>\n",
       "      <td>...</td>\n",
       "      <td>...</td>\n",
       "      <td>...</td>\n",
       "    </tr>\n",
       "    <tr>\n",
       "      <th>775</th>\n",
       "      <td>60</td>\n",
       "      <td>Wolf</td>\n",
       "      <td>3.54</td>\n",
       "    </tr>\n",
       "    <tr>\n",
       "      <th>776</th>\n",
       "      <td>164</td>\n",
       "      <td>Exiled Doomblade</td>\n",
       "      <td>1.63</td>\n",
       "    </tr>\n",
       "    <tr>\n",
       "      <th>777</th>\n",
       "      <td>67</td>\n",
       "      <td>Celeste, Incarnation of the Corrupted</td>\n",
       "      <td>3.46</td>\n",
       "    </tr>\n",
       "    <tr>\n",
       "      <th>778</th>\n",
       "      <td>101</td>\n",
       "      <td>Final Critic</td>\n",
       "      <td>4.19</td>\n",
       "    </tr>\n",
       "    <tr>\n",
       "      <th>779</th>\n",
       "      <td>50</td>\n",
       "      <td>Dawn</td>\n",
       "      <td>4.60</td>\n",
       "    </tr>\n",
       "  </tbody>\n",
       "</table>\n",
       "<p>780 rows × 3 columns</p>\n",
       "</div>"
      ],
      "text/plain": [
       "     Item ID                                  Item Name  Price\n",
       "0        108  Extraction, Quickblade Of Trembling Hands   3.53\n",
       "1        143                          Frenzied Scimitar   1.56\n",
       "2         92                               Final Critic   4.88\n",
       "3        100                                Blindscythe   3.27\n",
       "4        131                                       Fury   1.44\n",
       "..       ...                                        ...    ...\n",
       "775       60                                       Wolf   3.54\n",
       "776      164                           Exiled Doomblade   1.63\n",
       "777       67      Celeste, Incarnation of the Corrupted   3.46\n",
       "778      101                               Final Critic   4.19\n",
       "779       50                                       Dawn   4.60\n",
       "\n",
       "[780 rows x 3 columns]"
      ]
     },
     "execution_count": 15,
     "metadata": {},
     "output_type": "execute_result"
    }
   ],
   "source": [
    "df = purchase_data.drop([\"Purchase ID\", \"SN\", \"Age\", \"Gender\"], axis=1)\n",
    "df"
   ]
  },
  {
   "cell_type": "code",
   "execution_count": 16,
   "metadata": {},
   "outputs": [
    {
     "data": {
      "text/plain": [
       "Item ID  Item Name                        Price\n",
       "0        Splinter                         1.28     4\n",
       "1        Crucifer                         3.26     3\n",
       "2        Verdict                          2.48     6\n",
       "3        Phantomlight                     2.49     6\n",
       "4        Bloodlord's Fetish               1.70     5\n",
       "                                                  ..\n",
       "179      Wolf, Promise of the Moonwalker  4.48     6\n",
       "180      Stormcaller                      3.36     1\n",
       "181      Reaper's Toll                    1.66     5\n",
       "182      Toothpick                        4.03     3\n",
       "183      Dragon's Greatsword              1.09     3\n",
       "Name: Price, Length: 183, dtype: int64"
      ]
     },
     "execution_count": 16,
     "metadata": {},
     "output_type": "execute_result"
    }
   ],
   "source": [
    "# Group by Item ID and Item Name. Perform calculations to obtain purchase count, item price, and total purchase value\n",
    "# name_id = df.groupby([\"Item ID\", \"Item Name\"], axis=1)\n",
    "df.groupby([\"Item ID\", \"Item Name\"])[\"Price\"].value_counts()"
   ]
  },
  {
   "cell_type": "code",
   "execution_count": 17,
   "metadata": {},
   "outputs": [
    {
     "data": {
      "text/plain": [
       "178    12\n",
       "82      9\n",
       "108     9\n",
       "145     9\n",
       "92      8\n",
       "       ..\n",
       "42      1\n",
       "118     1\n",
       "104     1\n",
       "27      1\n",
       "51      1\n",
       "Name: Item ID, Length: 183, dtype: int64"
      ]
     },
     "execution_count": 17,
     "metadata": {},
     "output_type": "execute_result"
    }
   ],
   "source": [
    "df[\"Item ID\"].value_counts()"
   ]
  },
  {
   "cell_type": "markdown",
   "metadata": {},
   "source": [
    "## Most Profitable Items"
   ]
  },
  {
   "cell_type": "markdown",
   "metadata": {},
   "source": [
    "* Sort the above table by total purchase value in descending order\n",
    "\n",
    "\n",
    "* Optional: give the displayed data cleaner formatting\n",
    "\n",
    "\n",
    "* Display a preview of the data frame\n",
    "\n"
   ]
  },
  {
   "cell_type": "code",
   "execution_count": null,
   "metadata": {
    "scrolled": true
   },
   "outputs": [],
   "source": []
  }
 ],
 "metadata": {
  "anaconda-cloud": {},
  "environment": {
   "name": "common-cpu.m54",
   "type": "gcloud",
   "uri": "gcr.io/deeplearning-platform-release/base-cpu:m54"
  },
  "kernel_info": {
   "name": "python3"
  },
  "kernelspec": {
   "display_name": "Python 3",
   "language": "python",
   "name": "python3"
  },
  "language_info": {
   "codemirror_mode": {
    "name": "ipython",
    "version": 3
   },
   "file_extension": ".py",
   "mimetype": "text/x-python",
   "name": "python",
   "nbconvert_exporter": "python",
   "pygments_lexer": "ipython3",
   "version": "3.7.8"
  },
  "latex_envs": {
   "LaTeX_envs_menu_present": true,
   "autoclose": false,
   "autocomplete": true,
   "bibliofile": "biblio.bib",
   "cite_by": "apalike",
   "current_citInitial": 1,
   "eqLabelWithNumbers": true,
   "eqNumInitial": 1,
   "hotkeys": {
    "equation": "Ctrl-E",
    "itemize": "Ctrl-I"
   },
   "labels_anchors": false,
   "latex_user_defs": false,
   "report_style_numbering": false,
   "user_envs_cfg": false
  },
  "nteract": {
   "version": "0.2.0"
  }
 },
 "nbformat": 4,
 "nbformat_minor": 4
}
