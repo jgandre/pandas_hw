{
 "cells": [
  {
   "cell_type": "markdown",
   "metadata": {},
   "source": [
    "### Note\n",
    "* Instructions have been included for each segment. You do not have to follow them exactly, but they are included to help you think through the steps."
   ]
  },
  {
   "cell_type": "code",
   "execution_count": 1,
   "metadata": {},
   "outputs": [],
   "source": [
    "# Dependencies and Setup\n",
    "%load_ext lab_black\n",
    "import os\n",
    "import csv\n",
    "import pandas as pd\n",
    "\n",
    "# File to Load (Remember to Change These)\n",
    "path = os.path.join(\"Resources/purchase_data.csv\")\n",
    "\n",
    "# Read Purchasing File and store into Pandas data frame\n",
    "purchase_data = pd.read_csv(path)"
   ]
  },
  {
   "cell_type": "markdown",
   "metadata": {},
   "source": [
    "## Player Count"
   ]
  },
  {
   "cell_type": "markdown",
   "metadata": {},
   "source": [
    "* Display the total number of players\n"
   ]
  },
  {
   "cell_type": "code",
   "execution_count": 2,
   "metadata": {},
   "outputs": [
    {
     "data": {
      "text/html": [
       "<div>\n",
       "<style scoped>\n",
       "    .dataframe tbody tr th:only-of-type {\n",
       "        vertical-align: middle;\n",
       "    }\n",
       "\n",
       "    .dataframe tbody tr th {\n",
       "        vertical-align: top;\n",
       "    }\n",
       "\n",
       "    .dataframe thead th {\n",
       "        text-align: right;\n",
       "    }\n",
       "</style>\n",
       "<table border=\"1\" class=\"dataframe\">\n",
       "  <thead>\n",
       "    <tr style=\"text-align: right;\">\n",
       "      <th></th>\n",
       "      <th>Total Players</th>\n",
       "    </tr>\n",
       "  </thead>\n",
       "  <tbody>\n",
       "    <tr>\n",
       "      <th>0</th>\n",
       "      <td>576</td>\n",
       "    </tr>\n",
       "  </tbody>\n",
       "</table>\n",
       "</div>"
      ],
      "text/plain": [
       "   Total Players\n",
       "0            576"
      ]
     },
     "execution_count": 2,
     "metadata": {},
     "output_type": "execute_result"
    }
   ],
   "source": [
    "purchase_data[\"SN\"].value_counts()\n",
    "total = [len(purchase_data[\"SN\"].value_counts())]\n",
    "total\n",
    "type(total)\n",
    "df = pd.DataFrame(total, columns=[\"Total Players\"])\n",
    "df"
   ]
  },
  {
   "cell_type": "markdown",
   "metadata": {},
   "source": [
    "## Purchasing Analysis (Total)"
   ]
  },
  {
   "cell_type": "markdown",
   "metadata": {},
   "source": [
    "* Run basic calculations to obtain number of unique items, average price, etc.\n",
    "\n",
    "\n",
    "* Create a summary data frame to hold the results\n",
    "\n",
    "\n",
    "* Optional: give the displayed data cleaner formatting\n",
    "\n",
    "\n",
    "* Display the summary data frame\n"
   ]
  },
  {
   "cell_type": "code",
   "execution_count": null,
   "metadata": {
    "scrolled": true
   },
   "outputs": [],
   "source": []
  },
  {
   "cell_type": "code",
   "execution_count": 36,
   "metadata": {},
   "outputs": [
    {
     "name": "stdout",
     "output_type": "stream",
     "text": [
      "183\n",
      "3.050987179487176\n",
      "780\n",
      "2379.77\n",
      "3.050987179487176\n"
     ]
    },
    {
     "data": {
      "text/plain": [
       "'$2379.77'"
      ]
     },
     "execution_count": 36,
     "metadata": {},
     "output_type": "execute_result"
    }
   ],
   "source": [
    "print(len(purchase_data[\"Item ID\"].value_counts()))\n",
    "print(purchase_data[\"Price\"].mean())\n",
    "print(len(purchase_data[\"Purchase ID\"].value_counts()))\n",
    "print(purchase_data[\"Price\"].sum())\n",
    "\n",
    "print(purchase_data[\"Price\"].mean())\n",
    "avg_price = purchase_data[\"Price\"].mean()\n",
    "total_rev = purchase_data[\"Price\"].sum()\n",
    "\"${:.2f}\".format(avg_price)\n",
    "\"${:.2f}\".format(total_rev)"
   ]
  },
  {
   "cell_type": "code",
   "execution_count": 37,
   "metadata": {},
   "outputs": [
    {
     "data": {
      "text/html": [
       "<div>\n",
       "<style scoped>\n",
       "    .dataframe tbody tr th:only-of-type {\n",
       "        vertical-align: middle;\n",
       "    }\n",
       "\n",
       "    .dataframe tbody tr th {\n",
       "        vertical-align: top;\n",
       "    }\n",
       "\n",
       "    .dataframe thead th {\n",
       "        text-align: right;\n",
       "    }\n",
       "</style>\n",
       "<table border=\"1\" class=\"dataframe\">\n",
       "  <thead>\n",
       "    <tr style=\"text-align: right;\">\n",
       "      <th></th>\n",
       "      <th>Unique Item Count</th>\n",
       "      <th>Average Price</th>\n",
       "      <th>Number of Purchases</th>\n",
       "      <th>Total Revenue</th>\n",
       "    </tr>\n",
       "  </thead>\n",
       "  <tbody>\n",
       "    <tr>\n",
       "      <th>0</th>\n",
       "      <td>183</td>\n",
       "      <td>$3.05</td>\n",
       "      <td>780</td>\n",
       "      <td>$2379.77</td>\n",
       "    </tr>\n",
       "  </tbody>\n",
       "</table>\n",
       "</div>"
      ],
      "text/plain": [
       "   Unique Item Count Average Price  Number of Purchases Total Revenue\n",
       "0                183         $3.05                  780      $2379.77"
      ]
     },
     "execution_count": 37,
     "metadata": {},
     "output_type": "execute_result"
    }
   ],
   "source": [
    "summary = [\n",
    "    {\n",
    "        \"Unique Item Count\": len(purchase_data[\"Item ID\"].value_counts()),\n",
    "        \"Average Price\": \"${:.2f}\".format(avg_price),\n",
    "        \"Number of Purchases\": len(purchase_data[\"Purchase ID\"].value_counts()),\n",
    "        \"Total Revenue\": \"${:.2f}\".format(total_rev),\n",
    "    }\n",
    "]\n",
    "summary_df = pd.DataFrame(summary)\n",
    "summary_df"
   ]
  },
  {
   "cell_type": "markdown",
   "metadata": {},
   "source": [
    "## Gender Demographics"
   ]
  },
  {
   "cell_type": "code",
   "execution_count": null,
   "metadata": {},
   "outputs": [],
   "source": []
  },
  {
   "cell_type": "markdown",
   "metadata": {},
   "source": [
    "* Percentage and Count of Male Players\n",
    "\n",
    "\n",
    "* Percentage and Count of Female Players\n",
    "\n",
    "\n",
    "* Percentage and Count of Other / Non-Disclosed\n",
    "\n",
    "\n"
   ]
  },
  {
   "cell_type": "code",
   "execution_count": null,
   "metadata": {},
   "outputs": [],
   "source": []
  },
  {
   "cell_type": "code",
   "execution_count": 44,
   "metadata": {},
   "outputs": [
    {
     "data": {
      "text/html": [
       "<div>\n",
       "<style scoped>\n",
       "    .dataframe tbody tr th:only-of-type {\n",
       "        vertical-align: middle;\n",
       "    }\n",
       "\n",
       "    .dataframe tbody tr th {\n",
       "        vertical-align: top;\n",
       "    }\n",
       "\n",
       "    .dataframe thead th {\n",
       "        text-align: right;\n",
       "    }\n",
       "</style>\n",
       "<table border=\"1\" class=\"dataframe\">\n",
       "  <thead>\n",
       "    <tr style=\"text-align: right;\">\n",
       "      <th></th>\n",
       "      <th>Total Count</th>\n",
       "      <th>Percentage of Players</th>\n",
       "    </tr>\n",
       "  </thead>\n",
       "  <tbody>\n",
       "    <tr>\n",
       "      <th>Male</th>\n",
       "      <td>484</td>\n",
       "      <td>84.03%</td>\n",
       "    </tr>\n",
       "    <tr>\n",
       "      <th>Female</th>\n",
       "      <td>81</td>\n",
       "      <td>14.06%</td>\n",
       "    </tr>\n",
       "    <tr>\n",
       "      <th>Other/Non-Disclosed</th>\n",
       "      <td>11</td>\n",
       "      <td>1.91%</td>\n",
       "    </tr>\n",
       "  </tbody>\n",
       "</table>\n",
       "</div>"
      ],
      "text/plain": [
       "                     Total Count Percentage of Players\n",
       "Male                         484                84.03%\n",
       "Female                        81                14.06%\n",
       "Other/Non-Disclosed           11                 1.91%"
      ]
     },
     "execution_count": 44,
     "metadata": {},
     "output_type": "execute_result"
    }
   ],
   "source": [
    "# need to get the unique Males and Females\n",
    "u_males = purchase_data[purchase_data[\"Gender\"] == \"Male\"]\n",
    "mc = u_males[\"SN\"].value_counts()\n",
    "\n",
    "u_females = purchase_data[purchase_data[\"Gender\"] == \"Female\"]\n",
    "fc = u_females[\"SN\"].value_counts()\n",
    "\n",
    "u_unknown = purchase_data[purchase_data[\"Gender\"] == \"Other / Non-Disclosed\"]\n",
    "uc = u_unknown[\"SN\"].value_counts()\n",
    "\n",
    "male_count = len(mc)\n",
    "female_count = len(fc)\n",
    "unknown_count = len(uc)\n",
    "\n",
    "total_count = male_count + female_count + unknown_count\n",
    "\n",
    "male_percent = (male_count / total_count) * 100\n",
    "female_percent = (female_count / total_count) * 100\n",
    "unknown_percent = (unknown_count / total_count) * 100\n",
    "\n",
    "form_male_percent = \"{0:.2f}%\".format(male_percent)\n",
    "form_female_percent = \"{0:.2f}%\".format(female_percent)\n",
    "form_unknown_percent = \"{0:.2f}%\".format(unknown_percent)\n",
    "\n",
    "data = {\n",
    "    \"Total Count\": [male_count, female_count, unknown_count],\n",
    "    \"Percentage of Players\": [\n",
    "        form_male_percent,\n",
    "        form_female_percent,\n",
    "        form_unknown_percent,\n",
    "    ],\n",
    "}\n",
    "\n",
    "df = pd.DataFrame(data, index=[\"Male\", \"Female\", \"Other/Non-Disclosed\"])\n",
    "df"
   ]
  },
  {
   "cell_type": "code",
   "execution_count": 6,
   "metadata": {},
   "outputs": [],
   "source": [
    "# Close but not completely right\n",
    "# male_count = len(purchase_data.loc[purchase_data[\"Gender\"] == \"Male\"])\n",
    "# female_count = len(purchase_data.loc[purchase_data[\"Gender\"] == \"Female\"])\n",
    "# unknown_count = len(\n",
    "#    purchase_data.loc[purchase_data[\"Gender\"] == \"Other / Non-Disclosed\"]\n",
    "# )\n",
    "# total_count = male_count + female_count + unknown_count\n",
    "\n",
    "# male_percent = male_count / total_count\n",
    "# female_percent = female_count / total_count\n",
    "# unknown_percent = unknown_count / total_count\n",
    "\n",
    "# data = {\n",
    "#    \"Total Count\": [male_count, female_count, unknown_count],\n",
    "#    \"Percentage of Players\": [male_percent, female_percent, unknown_percent],\n",
    "# }\n",
    "\n",
    "# df = pd.DataFrame(data, index=[\"Male\", \"Female\", \"Other/Non-Disclosed\"])\n",
    "# df"
   ]
  },
  {
   "cell_type": "markdown",
   "metadata": {},
   "source": [
    "\n",
    "## Purchasing Analysis (Gender)"
   ]
  },
  {
   "cell_type": "markdown",
   "metadata": {},
   "source": [
    "* Run basic calculations to obtain purchase count, avg. purchase price, avg. purchase total per person etc. by gender\n",
    "\n",
    "\n",
    "\n",
    "\n",
    "* Create a summary data frame to hold the results\n",
    "\n",
    "\n",
    "* Optional: give the displayed data cleaner formatting\n",
    "\n",
    "\n",
    "* Display the summary data frame"
   ]
  },
  {
   "cell_type": "code",
   "execution_count": 7,
   "metadata": {},
   "outputs": [
    {
     "name": "stdout",
     "output_type": "stream",
     "text": [
      "652\n",
      "113\n",
      "15\n"
     ]
    }
   ],
   "source": [
    "# puchase count\n",
    "male_purch_count = len(purchase_data.loc[purchase_data[\"Gender\"] == \"Male\"])\n",
    "female_purch_count = len(purchase_data.loc[purchase_data[\"Gender\"] == \"Female\"])\n",
    "unknown_purch_count = len(\n",
    "    purchase_data.loc[purchase_data[\"Gender\"] == \"Other / Non-Disclosed\"]\n",
    ")\n",
    "print(male_purch_count)\n",
    "print(female_purch_count)\n",
    "print(unknown_purch_count)"
   ]
  },
  {
   "cell_type": "code",
   "execution_count": 8,
   "metadata": {},
   "outputs": [
    {
     "name": "stdout",
     "output_type": "stream",
     "text": [
      "3.0178527607361953\n",
      "3.203008849557519\n",
      "3.3460000000000005\n"
     ]
    }
   ],
   "source": [
    "# avg purchase price\n",
    "m_avg_price = purchase_data[purchase_data[\"Gender\"] == \"Male\"][\"Price\"].mean()\n",
    "print(m_avg_price)\n",
    "f_avg_price = purchase_data[purchase_data[\"Gender\"] == \"Female\"][\"Price\"].mean()\n",
    "print(f_avg_price)\n",
    "u_avg_price = purchase_data[purchase_data[\"Gender\"] == \"Other / Non-Disclosed\"][\n",
    "    \"Price\"\n",
    "].mean()\n",
    "print(u_avg_price)"
   ]
  },
  {
   "cell_type": "code",
   "execution_count": 9,
   "metadata": {},
   "outputs": [
    {
     "name": "stdout",
     "output_type": "stream",
     "text": [
      "1967.64\n",
      "361.94\n",
      "50.19\n"
     ]
    }
   ],
   "source": [
    "# Total Purchase Value by gender\n",
    "m_total_price = purchase_data[purchase_data[\"Gender\"] == \"Male\"][\"Price\"].sum()\n",
    "print(m_total_price)\n",
    "f_total_price = purchase_data[purchase_data[\"Gender\"] == \"Female\"][\"Price\"].sum()\n",
    "print(f_total_price)\n",
    "u_total_price = purchase_data[purchase_data[\"Gender\"] == \"Other / Non-Disclosed\"][\n",
    "    \"Price\"\n",
    "].sum()\n",
    "print(u_total_price)"
   ]
  },
  {
   "cell_type": "code",
   "execution_count": 10,
   "metadata": {},
   "outputs": [],
   "source": [
    "# Purchase Count\tAverage Purchase Price\tTotal Purchase Value\tAvg Total Purchase per Person"
   ]
  },
  {
   "cell_type": "code",
   "execution_count": 11,
   "metadata": {},
   "outputs": [
    {
     "name": "stdout",
     "output_type": "stream",
     "text": [
      "1967.64\n",
      "361.94\n",
      "4.065371900826446\n"
     ]
    }
   ],
   "source": [
    "# avg total purchase per person by gender\n",
    "m_total_price = purchase_data[purchase_data[\"Gender\"] == \"Male\"][\"Price\"].sum()\n",
    "print(m_total_price)\n",
    "f_total_price = purchase_data[purchase_data[\"Gender\"] == \"Female\"][\"Price\"].sum()\n",
    "print(f_total_price)\n",
    "u_total_price = purchase_data[purchase_data[\"Gender\"] == \"Other / Non-Disclosed\"][\n",
    "    \"Price\"\n",
    "].sum()\n",
    "# print(m_total_price / male_count)\n",
    "# print(f_total_price / female_count)\n",
    "# print(u_total_price / unknown_count)\n",
    "\n",
    "m_avg_total = m_total_price / male_count\n",
    "f_avg_total = f_total_price / female_count\n",
    "u_avg_total = u_total_price / unknown_count\n",
    "print(m_avg_total)"
   ]
  },
  {
   "cell_type": "code",
   "execution_count": 12,
   "metadata": {},
   "outputs": [
    {
     "data": {
      "text/html": [
       "<div>\n",
       "<style scoped>\n",
       "    .dataframe tbody tr th:only-of-type {\n",
       "        vertical-align: middle;\n",
       "    }\n",
       "\n",
       "    .dataframe tbody tr th {\n",
       "        vertical-align: top;\n",
       "    }\n",
       "\n",
       "    .dataframe thead th {\n",
       "        text-align: right;\n",
       "    }\n",
       "</style>\n",
       "<table border=\"1\" class=\"dataframe\">\n",
       "  <thead>\n",
       "    <tr style=\"text-align: right;\">\n",
       "      <th></th>\n",
       "      <th>Purchase Count</th>\n",
       "      <th>Avg Purchase Price</th>\n",
       "      <th>Total Purchase Value</th>\n",
       "      <th>Avg Total Puchases per Person</th>\n",
       "    </tr>\n",
       "  </thead>\n",
       "  <tbody>\n",
       "    <tr>\n",
       "      <th>Male</th>\n",
       "      <td>652</td>\n",
       "      <td>3.017853</td>\n",
       "      <td>1967.64</td>\n",
       "      <td>4.065372</td>\n",
       "    </tr>\n",
       "    <tr>\n",
       "      <th>Female</th>\n",
       "      <td>113</td>\n",
       "      <td>3.203009</td>\n",
       "      <td>361.94</td>\n",
       "      <td>4.468395</td>\n",
       "    </tr>\n",
       "    <tr>\n",
       "      <th>Other/Non-Disclosed</th>\n",
       "      <td>15</td>\n",
       "      <td>3.346000</td>\n",
       "      <td>50.19</td>\n",
       "      <td>4.562727</td>\n",
       "    </tr>\n",
       "  </tbody>\n",
       "</table>\n",
       "</div>"
      ],
      "text/plain": [
       "                     Purchase Count  Avg Purchase Price  Total Purchase Value  \\\n",
       "Male                            652            3.017853               1967.64   \n",
       "Female                          113            3.203009                361.94   \n",
       "Other/Non-Disclosed              15            3.346000                 50.19   \n",
       "\n",
       "                     Avg Total Puchases per Person  \n",
       "Male                                      4.065372  \n",
       "Female                                    4.468395  \n",
       "Other/Non-Disclosed                       4.562727  "
      ]
     },
     "execution_count": 12,
     "metadata": {},
     "output_type": "execute_result"
    }
   ],
   "source": [
    "# dataframe for Puchase Analysis(Gender)\n",
    "\n",
    "data = {\n",
    "    \"Purchase Count\": [male_purch_count, female_purch_count, unknown_purch_count],\n",
    "    \"Avg Purchase Price\": [m_avg_price, f_avg_price, u_avg_price],\n",
    "    \"Total Purchase Value\": [m_total_price, f_total_price, u_total_price],\n",
    "    \"Avg Total Puchases per Person\": [m_avg_total, f_avg_total, u_avg_total],\n",
    "}\n",
    "\n",
    "df = pd.DataFrame(data, index=[\"Male\", \"Female\", \"Other/Non-Disclosed\"])\n",
    "df"
   ]
  },
  {
   "cell_type": "markdown",
   "metadata": {},
   "source": [
    "## Age Demographics"
   ]
  },
  {
   "cell_type": "markdown",
   "metadata": {},
   "source": [
    "* Establish bins for ages\n",
    "\n",
    "\n",
    "* Categorize the existing players using the age bins. Hint: use pd.cut()\n",
    "\n",
    "\n",
    "* Calculate the numbers and percentages by age group\n",
    "\n",
    "\n",
    "* Create a summary data frame to hold the results\n",
    "\n",
    "\n",
    "* Optional: round the percentage column to two decimal points\n",
    "\n",
    "\n",
    "* Display Age Demographics Table\n"
   ]
  },
  {
   "cell_type": "code",
   "execution_count": 13,
   "metadata": {},
   "outputs": [],
   "source": [
    "df = purchase_data[\"Age\"]\n",
    "bins = pd.cut(\n",
    "    x=df,\n",
    "    bins=[0, 10, 15, 20, 25, 30, 35, 40, 100],\n",
    "    labels=[\n",
    "        \"<10\",\n",
    "        \"10 to 14\",\n",
    "        \"15 to 19\",\n",
    "        \"20 to 24\",\n",
    "        \"25 to 29\",\n",
    "        \"30 to 34\",\n",
    "        \"35 t0 39\",\n",
    "        \"40+\",\n",
    "    ],\n",
    ")"
   ]
  },
  {
   "cell_type": "code",
   "execution_count": 14,
   "metadata": {},
   "outputs": [
    {
     "data": {
      "text/plain": [
       "0      15 to 19\n",
       "1      35 t0 39\n",
       "2      20 to 24\n",
       "3      20 to 24\n",
       "4      20 to 24\n",
       "         ...   \n",
       "775    20 to 24\n",
       "776    20 to 24\n",
       "777    15 to 19\n",
       "778         <10\n",
       "779    20 to 24\n",
       "Name: Age, Length: 780, dtype: category\n",
       "Categories (8, object): [<10 < 10 to 14 < 15 to 19 < 20 to 24 < 25 to 29 < 30 to 34 < 35 t0 39 < 40+]"
      ]
     },
     "execution_count": 14,
     "metadata": {},
     "output_type": "execute_result"
    }
   ],
   "source": [
    "bins"
   ]
  },
  {
   "cell_type": "markdown",
   "metadata": {},
   "source": [
    "## Purchasing Analysis (Age)"
   ]
  },
  {
   "cell_type": "markdown",
   "metadata": {},
   "source": [
    "* Bin the purchase_data data frame by age\n",
    "\n",
    "\n",
    "* Run basic calculations to obtain purchase count, avg. purchase price, avg. purchase total per person etc. in the table below\n",
    "\n",
    "\n",
    "* Create a summary data frame to hold the results\n",
    "\n",
    "\n",
    "* Optional: give the displayed data cleaner formatting\n",
    "\n",
    "\n",
    "* Display the summary data frame"
   ]
  },
  {
   "cell_type": "code",
   "execution_count": null,
   "metadata": {},
   "outputs": [],
   "source": []
  },
  {
   "cell_type": "markdown",
   "metadata": {},
   "source": [
    "## Top Spenders"
   ]
  },
  {
   "cell_type": "markdown",
   "metadata": {},
   "source": [
    "* Run basic calculations to obtain the results in the table below\n",
    "\n",
    "\n",
    "* Create a summary data frame to hold the results\n",
    "\n",
    "\n",
    "* Sort the total purchase value column in descending order\n",
    "\n",
    "\n",
    "* Optional: give the displayed data cleaner formatting\n",
    "\n",
    "\n",
    "* Display a preview of the summary data frame\n",
    "\n"
   ]
  },
  {
   "cell_type": "code",
   "execution_count": null,
   "metadata": {},
   "outputs": [],
   "source": []
  },
  {
   "cell_type": "markdown",
   "metadata": {},
   "source": [
    "## Most Popular Items"
   ]
  },
  {
   "cell_type": "markdown",
   "metadata": {},
   "source": [
    "* Retrieve the Item ID, Item Name, and Item Price columns\n",
    "\n",
    "\n",
    "* Group by Item ID and Item Name. Perform calculations to obtain purchase count, item price, and total purchase value\n",
    "\n",
    "\n",
    "* Create a summary data frame to hold the results\n",
    "\n",
    "\n",
    "* Sort the purchase count column in descending order\n",
    "\n",
    "\n",
    "* Optional: give the displayed data cleaner formatting\n",
    "\n",
    "\n",
    "* Display a preview of the summary data frame\n",
    "\n"
   ]
  },
  {
   "cell_type": "code",
   "execution_count": null,
   "metadata": {},
   "outputs": [],
   "source": []
  },
  {
   "cell_type": "markdown",
   "metadata": {},
   "source": [
    "## Most Profitable Items"
   ]
  },
  {
   "cell_type": "markdown",
   "metadata": {},
   "source": [
    "* Sort the above table by total purchase value in descending order\n",
    "\n",
    "\n",
    "* Optional: give the displayed data cleaner formatting\n",
    "\n",
    "\n",
    "* Display a preview of the data frame\n",
    "\n"
   ]
  },
  {
   "cell_type": "code",
   "execution_count": null,
   "metadata": {
    "scrolled": true
   },
   "outputs": [],
   "source": []
  }
 ],
 "metadata": {
  "anaconda-cloud": {},
  "environment": {
   "name": "common-cpu.m54",
   "type": "gcloud",
   "uri": "gcr.io/deeplearning-platform-release/base-cpu:m54"
  },
  "kernel_info": {
   "name": "python3"
  },
  "kernelspec": {
   "display_name": "Python 3",
   "language": "python",
   "name": "python3"
  },
  "language_info": {
   "codemirror_mode": {
    "name": "ipython",
    "version": 3
   },
   "file_extension": ".py",
   "mimetype": "text/x-python",
   "name": "python",
   "nbconvert_exporter": "python",
   "pygments_lexer": "ipython3",
   "version": "3.7.8"
  },
  "latex_envs": {
   "LaTeX_envs_menu_present": true,
   "autoclose": false,
   "autocomplete": true,
   "bibliofile": "biblio.bib",
   "cite_by": "apalike",
   "current_citInitial": 1,
   "eqLabelWithNumbers": true,
   "eqNumInitial": 1,
   "hotkeys": {
    "equation": "Ctrl-E",
    "itemize": "Ctrl-I"
   },
   "labels_anchors": false,
   "latex_user_defs": false,
   "report_style_numbering": false,
   "user_envs_cfg": false
  },
  "nteract": {
   "version": "0.2.0"
  }
 },
 "nbformat": 4,
 "nbformat_minor": 4
}
